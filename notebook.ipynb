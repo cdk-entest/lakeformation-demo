{
 "cells": [
  {
   "attachments": {},
   "cell_type": "markdown",
   "id": "375aafde",
   "metadata": {},
   "source": [
    "### Glue Interactive Notebook \n",
    "- magics \n",
    "- read data from s3 \n",
    "- read data from catalog \n",
    "- write and create catalog \n",
    "- [Glue ETL Programming](https://docs.aws.amazon.com/glue/latest/dg/aws-glue-programming-etl-format-parquet-home.html) \n",
    "- [Glue Create Table Catalog](https://docs.aws.amazon.com/glue/latest/dg/update-from-job.html )\n",
    "- [Create table by Athenq query](https://github.com/cdk-entest/lakeformation-demo/blob/master/query/create_tsv_table.sql)\n",
    "- Create table using boto3 SDK"
   ]
  },
  {
   "cell_type": "code",
   "execution_count": null,
   "id": "93c78b7a",
   "metadata": {
    "vscode": {
     "languageId": "python"
    }
   },
   "outputs": [],
   "source": [
    "%help"
   ]
  },
  {
   "attachments": {},
   "cell_type": "markdown",
   "id": "3d98581b",
   "metadata": {},
   "source": [
    "### Parameters and Environment Variables "
   ]
  },
  {
   "cell_type": "code",
   "execution_count": null,
   "id": "255ed90e",
   "metadata": {
    "vscode": {
     "languageId": "python"
    }
   },
   "outputs": [],
   "source": [
    "# %region ap-southeast-1\n",
    "%additional_python_modules matplotlib, numpy, pandas \n",
    "%idle_timeout 15 \n",
    "%glue_version 3.0 \n",
    "%number_of_workers 5\n",
    "%iam_role arn:aws:iam::212776191100:role/LakeFormationWorkFlowRole"
   ]
  },
  {
   "cell_type": "code",
   "execution_count": null,
   "id": "fb98a826",
   "metadata": {
    "vscode": {
     "languageId": "python"
    }
   },
   "outputs": [],
   "source": []
  },
  {
   "attachments": {},
   "cell_type": "markdown",
   "id": "4e961ef8",
   "metadata": {},
   "source": [
    "### Import, Create GlueContext, SparkSession "
   ]
  },
  {
   "cell_type": "code",
   "execution_count": null,
   "id": "8649c798",
   "metadata": {
    "vscode": {
     "languageId": "python"
    }
   },
   "outputs": [],
   "source": [
    "from awsglue.context import GlueContext\n",
    "from pyspark.context import SparkContext"
   ]
  },
  {
   "cell_type": "code",
   "execution_count": null,
   "id": "014ce719",
   "metadata": {
    "vscode": {
     "languageId": "python"
    }
   },
   "outputs": [],
   "source": [
    "sc = SparkContext.getOrCreate()\n",
    "glueContext = GlueContext(sc)"
   ]
  },
  {
   "cell_type": "code",
   "execution_count": null,
   "id": "3c68a940",
   "metadata": {
    "vscode": {
     "languageId": "python"
    }
   },
   "outputs": [],
   "source": [
    "# best practice passed by env or arguments\n",
    "catalog_id = \"\"\n",
    "lake_bucket_name = \"\"\n",
    "table_name = \"amazon_reviews_tsv_2\"\n",
    "database_name = \"default\""
   ]
  },
  {
   "attachments": {},
   "cell_type": "markdown",
   "id": "2ec41d75",
   "metadata": {},
   "source": [
    "### Create a Table using Boto3 SDK"
   ]
  },
  {
   "cell_type": "code",
   "execution_count": null,
   "id": "6fd044fc",
   "metadata": {
    "vscode": {
     "languageId": "python"
    }
   },
   "outputs": [],
   "source": [
    "import boto3\n",
    "# create glue client\n",
    "client = boto3.client(\n",
    "    region_name=\"ap-southeast-1\", service_name=\"glue\"\n",
    ")\n",
    "\n",
    "# create tabe in catalog\n",
    "resp = client.create_table(\n",
    "    CatalogId=catalog_id,\n",
    "    DatabaseName=database_name,\n",
    "    TableInput={\n",
    "        \"Name\": table_name,\n",
    "        \"Description\": \"test\",\n",
    "        \"TableType\": \"EXTERNAL\",\n",
    "        \"Parameters\": {\"classification\": \"parquet\"},\n",
    "        \"StorageDescriptor\": {\n",
    "            \"Columns\": [\n",
    "                {\n",
    "                    \"Name\": \"marketplace\",\n",
    "                    \"Type\": \"string\",\n",
    "                },\n",
    "                {\n",
    "                    \"Name\": \"customer_id\",\n",
    "                    \"Type\": \"string\",\n",
    "                },\n",
    "                {\n",
    "                    \"Name\": \"review_id\",\n",
    "                    \"Type\": \"string\",\n",
    "                },\n",
    "                {\n",
    "                    \"Name\": \"product_id\",\n",
    "                    \"Type\": \"string\",\n",
    "                },\n",
    "                {\n",
    "                    \"Name\": \"product_parent\",\n",
    "                    \"Type\": \"string\",\n",
    "                },\n",
    "                {\n",
    "                    \"Name\": \"product_title\",\n",
    "                    \"Type\": \"string\",\n",
    "                },\n",
    "                {\n",
    "                    \"Name\": \"star_rating\",\n",
    "                    \"Type\": \"int\",\n",
    "                },\n",
    "                {\n",
    "                    \"Name\": \"helpful_votes\",\n",
    "                    \"Type\": \"int\",\n",
    "                },\n",
    "                {\n",
    "                    \"Name\": \"total_votes\",\n",
    "                    \"Type\": \"int\",\n",
    "                },\n",
    "                {\n",
    "                    \"Name\": \"vine\",\n",
    "                    \"Type\": \"string\",\n",
    "                },\n",
    "                {\n",
    "                    \"Name\": \"verified_purchase\",\n",
    "                    \"Type\": \"string\",\n",
    "                },\n",
    "                {\n",
    "                    \"Name\": \"review_headline\",\n",
    "                    \"Type\": \"string\",\n",
    "                },\n",
    "                {\n",
    "                    \"Name\": \"review_body\",\n",
    "                    \"Type\": \"string\",\n",
    "                },\n",
    "                {\n",
    "                    \"Name\": \"review_date\",\n",
    "                    \"Type\": \"string\",\n",
    "                },\n",
    "                {\n",
    "                    \"Name\": \"myyear\",\n",
    "                    \"Type\": \"int\",\n",
    "                },\n",
    "            ],\n",
    "            \"Location\": \"s3://{0}/{1}/\".format(\n",
    "                lake_bucket_name, table_name\n",
    "            ),\n",
    "            \"InputFormat\": \"org.apache.hadoop.hive.ql.io.parquet.MapredParquetInputFormat\",\n",
    "            \"OutputFormat\": \"org.apache.hadoop.hive.ql.io.parquet.MapredParquetOutputFormat\",\n",
    "            \"SerdeInfo\": {\n",
    "                \"Name\": \"ParquetHiveSerDe\",\n",
    "                \"SerializationLibrary\": \"org.apache.hadoop.hive.ql.io.parquet.serde.ParquetHiveSerDe\",\n",
    "            },\n",
    "            \"Compressed\": False,\n",
    "        },\n",
    "    },\n",
    ")\n",
    "\n",
    "print(resp)"
   ]
  },
  {
   "attachments": {},
   "cell_type": "markdown",
   "id": "bdbdacd1",
   "metadata": {},
   "source": [
    "### Read Data From S3 into a DataFrame  "
   ]
  },
  {
   "cell_type": "code",
   "execution_count": null,
   "id": "530589b1",
   "metadata": {
    "vscode": {
     "languageId": "python"
    }
   },
   "outputs": [],
   "source": [
    "S3bucket_node1 = glueContext.create_dynamic_frame.from_options(\n",
    "    format_options={\n",
    "        \"quoteChar\": '\"',\n",
    "        \"withHeader\": True,\n",
    "        \"separator\": \"\\t\",\n",
    "    },\n",
    "    connection_type=\"s3\",\n",
    "    format=\"csv\",\n",
    "    connection_options={\n",
    "        \"paths\": [\"s3://amazon-reviews-pds/tsv/amazon_reviews_us_Sports_v1_00.tsv.gz\"],\n",
    "        \"recurse\": True,\n",
    "    },\n",
    "    transformation_ctx=\"S3bucket_node1\",\n",
    ")"
   ]
  },
  {
   "cell_type": "code",
   "execution_count": null,
   "id": "c74873d3",
   "metadata": {
    "vscode": {
     "languageId": "python"
    }
   },
   "outputs": [],
   "source": [
    "S3bucket_node1.show(10)"
   ]
  },
  {
   "cell_type": "code",
   "execution_count": null,
   "id": "a11a9342",
   "metadata": {
    "vscode": {
     "languageId": "python"
    }
   },
   "outputs": [],
   "source": [
    "glueContext.write_dynamic_frame.from_catalog(\n",
    "    frame=S3bucket_node1, \n",
    "    database= \"default\",\n",
    "    table_name=table_name,\n",
    "    transformation_ctx=\"S3bucket_node3\",\n",
    ")"
   ]
  },
  {
   "cell_type": "code",
   "execution_count": null,
   "id": "abf83bcd",
   "metadata": {
    "vscode": {
     "languageId": "python"
    }
   },
   "outputs": [],
   "source": [
    "# # fmt: off\n",
    "# S3bucket_node3 = glueContext.write_dynamic_frame.from_options(\n",
    "#     frame=S3bucket_node1,\n",
    "#     connection_type=\"s3\",\n",
    "#     format=\"glueparquet\",\n",
    "#     connection_options={\n",
    "#         \"path\": \"s3://{0}/parquet/\".format(data_lake_bucket),\n",
    "#         \"partitionKeys\": [\"product_category\"],\n",
    "#         \"enableUpdateCatalog\": True,\n",
    "#          \"database\":\"default\",\n",
    "#          \"table\":\"amazon_reviews_parquet_table\",\n",
    "#     },\n",
    "#     format_options={\"compression\": \"uncompressed\"},\n",
    "#     transformation_ctx=\"S3bucket_node3\",\n",
    "# )"
   ]
  },
  {
   "cell_type": "code",
   "execution_count": null,
   "id": "1270a67a",
   "metadata": {
    "vscode": {
     "languageId": "python"
    }
   },
   "outputs": [],
   "source": [
    "# dynamicFrame = glueContext.create_dynamic_frame.from_options(\n",
    "#     connection_type = \"s3\", \n",
    "#     connection_options = {\"paths\": [\"s3://{0}/amazon-review-tsv-parquet/\".format(data_lake_bucket)]}, \n",
    "#     format = \"parquet\"\n",
    "# )\n",
    "# # dataFrame = spark.read.parquet(\"s3://s3path/\")\n",
    "# dynamicFrame.show(10)"
   ]
  },
  {
   "cell_type": "code",
   "execution_count": null,
   "id": "bf9cdfbd",
   "metadata": {
    "vscode": {
     "languageId": "python"
    }
   },
   "outputs": [],
   "source": [
    "# # it take about 3 minutes haha \n",
    "# S3bucket_node5 = glueContext.getSink(\n",
    "#     path=\"s3://{0}/amazon-review-tsv-parquet/\".format(data_lake_bucket),\n",
    "#     connection_type=\"s3\",\n",
    "#     updateBehavior=\"UPDATE_IN_DATABASE\",\n",
    "#     partitionKeys=[],\n",
    "#     # compression=\"snappy\",\n",
    "#     enableUpdateCatalog=True,\n",
    "#     transformation_ctx=\"write_sink\",\n",
    "# )\n",
    "# S3bucket_node5.setCatalogInfo(\n",
    "#     catalogDatabase=\"default\", \n",
    "#     catalogTableName=\"amazon_review_tsv_parquet\"\n",
    "# )\n",
    "# S3bucket_node5.setFormat(\"glueparquet\")\n",
    "# S3bucket_node5.writeFrame(S3bucket_node1)"
   ]
  },
  {
   "attachments": {},
   "cell_type": "markdown",
   "id": "830eb24b",
   "metadata": {},
   "source": [
    "### Read From Glue Catalog "
   ]
  },
  {
   "cell_type": "code",
   "execution_count": null,
   "id": "2470ffb2",
   "metadata": {
    "vscode": {
     "languageId": "python"
    }
   },
   "outputs": [],
   "source": [
    "df2 = glueContext.create_dynamic_frame.from_catalog(database=\"default\", table_name=table_name)"
   ]
  },
  {
   "cell_type": "code",
   "execution_count": null,
   "id": "918caf9b",
   "metadata": {
    "vscode": {
     "languageId": "python"
    }
   },
   "outputs": [],
   "source": [
    "df2.show(10)"
   ]
  },
  {
   "cell_type": "code",
   "execution_count": null,
   "id": "8ad071a6",
   "metadata": {
    "vscode": {
     "languageId": "python"
    }
   },
   "outputs": [],
   "source": [
    "%stop_session"
   ]
  },
  {
   "cell_type": "code",
   "execution_count": null,
   "id": "bf79ad88",
   "metadata": {
    "vscode": {
     "languageId": "python"
    }
   },
   "outputs": [],
   "source": []
  }
 ],
 "metadata": {
  "kernelspec": {
   "display_name": "Glue PySpark",
   "language": "python",
   "name": "glue_pyspark"
  },
  "language_info": {
   "codemirror_mode": {
    "name": "python",
    "version": 3
   },
   "file_extension": ".py",
   "mimetype": "text/x-python",
   "name": "Python_Glue_Session",
   "pygments_lexer": "python3"
  }
 },
 "nbformat": 4,
 "nbformat_minor": 5
}
